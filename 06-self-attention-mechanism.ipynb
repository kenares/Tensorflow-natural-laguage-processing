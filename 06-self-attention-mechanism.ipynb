{
 "cells": [
  {
   "cell_type": "markdown",
   "metadata": {},
   "source": [
    "What do *BERT, RoBERTa, ALBERT, SpanBERT, DistilBERT, SesameBERT, SemBERT, MobileBERT, TinyBERT* and *CamemBERT* all have in common?\n",
    "Answer: **Self-attention**\n",
    "\n",
    "The main content of this kernel is to walk you through the mathematical operations involved in a self-attention module.\n",
    "\n",
    "A self-attention module takes in n inputs, and returns n outputs. What happens in this module? In layman’s terms, the self-attention mechanism allows the inputs to interact with each other (“self”) and find out who they should pay more attention to (“attention”). The outputs are aggregates of these interactions and attention scores.\n",
    "\n",
    "Following, we are going to explain and implement:\n",
    "\n",
    "1. Prepare inputs\n",
    "2. Initialise weights\n",
    "3. Derive key, query and value\n",
    "4. Calculate attention scores for Input 1\n",
    "5. Calculate softmax\n",
    "6. Multiply scores with values\n",
    "7. Sum weighted values to get Output 1\n",
    "8. Repeat steps 4–7 for Input 2 & Input 3"
   ]
  },
  {
   "cell_type": "code",
   "execution_count": 1,
   "metadata": {},
   "outputs": [],
   "source": [
    "import tensorflow as tf"
   ]
  },
  {
   "cell_type": "markdown",
   "metadata": {},
   "source": [
    "![texto alternativo](https://miro.medium.com/max/1973/1*hmvdDXrxhJsGhOQClQdkBA.png)"
   ]
  },
  {
   "cell_type": "code",
   "execution_count": 3,
   "metadata": {},
   "outputs": [
    {
     "data": {
      "text/plain": [
       "<tf.Tensor: shape=(3, 4), dtype=float32, numpy=\n",
       "array([[1., 0., 1., 0.],\n",
       "       [0., 2., 0., 2.],\n",
       "       [1., 1., 1., 1.]], dtype=float32)>"
      ]
     },
     "execution_count": 3,
     "metadata": {},
     "output_type": "execute_result"
    }
   ],
   "source": [
    "x = [\n",
    "    [1, 0, 1, 0],\n",
    "    [0, 2, 0, 2],\n",
    "    [1, 1, 1, 1]\n",
    "]\n",
    "\n",
    "x = tf.convert_to_tensor(x, dtype=tf.float32)\n",
    "x"
   ]
  },
  {
   "cell_type": "markdown",
   "metadata": {},
   "source": [
    "Every input must have three representations (see diagram below). These representations are called **key** (orange), **query** (red), and **value** (purple). Each input has 4 dimension, let's say we want these representations to have the dimension of 3. This means each set of the weights must have a shape of 4x3.\n",
    "\n",
    "![texto del enlace](https://miro.medium.com/max/1975/1*VPvXYMGjv0kRuoYqgFvCag.gif)"
   ]
  },
  {
   "cell_type": "code",
   "execution_count": 8,
   "metadata": {},
   "outputs": [
    {
     "name": "stdout",
     "output_type": "stream",
     "text": [
      "Weights for key:\n",
      " [[0. 0. 1.]\n",
      " [1. 1. 0.]\n",
      " [0. 1. 0.]\n",
      " [1. 1. 0.]]\n",
      "\n",
      "Weights for query:\n",
      " [[1. 0. 1.]\n",
      " [1. 0. 0.]\n",
      " [0. 0. 1.]\n",
      " [0. 1. 1.]]\n",
      "\n",
      "Weights for value:\n",
      " [[0. 2. 0.]\n",
      " [0. 3. 0.]\n",
      " [1. 0. 3.]\n",
      " [1. 1. 0.]]\n"
     ]
    }
   ],
   "source": [
    "w_key = [\n",
    "    [0, 0, 1],\n",
    "    [1, 1, 0],\n",
    "    [0, 1, 0],\n",
    "    [1, 1, 0]\n",
    "]\n",
    "\n",
    "w_query = [\n",
    "    [1, 0, 1],\n",
    "    [1, 0, 0],\n",
    "    [0, 0, 1],\n",
    "    [0, 1, 1]\n",
    "]\n",
    "\n",
    "w_value = [\n",
    "    [0, 2, 0],\n",
    "    [0, 3, 0],\n",
    "    [1, 0, 3],\n",
    "    [1, 1, 0]\n",
    "]\n",
    "\n",
    "w_key, w_query, w_value = tf.convert_to_tensor(w_key, dtype=tf.float32), tf.convert_to_tensor(w_query, dtype=tf.float32),\\\n",
    "                          tf.convert_to_tensor(w_value, dtype=tf.float32)\n",
    "print(f'Weights for key:\\n {w_key}\\n')\n",
    "print(f'Weights for query:\\n {w_query}\\n')\n",
    "print(f'Weights for value:\\n {w_value}')"
   ]
  },
  {
   "cell_type": "markdown",
   "metadata": {},
   "source": [
    "Note: *In a neural network setting, these weights are usually small numbers, initialised randomly using an appropriate random distribution like Gaussian, Xavier and Kaiming distributions.*"
   ]
  },
  {
   "cell_type": "markdown",
   "metadata": {},
   "source": [
    "### Step 3: Derive key, query and value\n",
    "\n",
    "Now that we have the three sets of weights, let’s actually obtain the **key**, **query** and **value** representations for every input."
   ]
  },
  {
   "cell_type": "markdown",
   "metadata": {},
   "source": [
    "Obtaining the keys:\n",
    "```\n",
    "               [0, 0, 1]\n",
    "[1, 0, 1, 0]   [1, 1, 0]   [0, 1, 1]\n",
    "[0, 2, 0, 2] x [0, 1, 0] = [4, 4, 0]\n",
    "[1, 1, 1, 1]   [1, 1, 0]   [2, 3, 1]\n",
    "```\n",
    "![texto alternativo](https://miro.medium.com/max/1975/1*dr6NIaTfTxEWzxB2rc0JWg.gif)\n",
    "\n",
    "Obtaining the values:\n",
    "```\n",
    "               [0, 2, 0]\n",
    "[1, 0, 1, 0]   [0, 3, 0]   [1, 2, 3] \n",
    "[0, 2, 0, 2] x [1, 0, 3] = [2, 8, 0]\n",
    "[1, 1, 1, 1]   [1, 1, 0]   [2, 6, 3]\n",
    "```\n",
    "![texto alternativo](https://miro.medium.com/max/1975/1*5kqW7yEwvcC0tjDOW3Ia-A.gif)\n",
    "\n",
    "Obtaining the querys:\n",
    "```\n",
    "               [1, 0, 1]\n",
    "[1, 0, 1, 0]   [1, 0, 0]   [1, 0, 2]\n",
    "[0, 2, 0, 2] x [0, 0, 1] = [2, 2, 2]\n",
    "[1, 1, 1, 1]   [0, 1, 1]   [2, 1, 3]\n",
    "```\n",
    "![texto alternativo](https://miro.medium.com/max/1975/1*wO_UqfkWkv3WmGQVHvrMJw.gif)\n",
    "\n",
    "Notes: *In practice, a bias vector may be added to the product of matrix multiplication.*"
   ]
  },
  {
   "cell_type": "code",
   "execution_count": 12,
   "metadata": {},
   "outputs": [
    {
     "name": "stdout",
     "output_type": "stream",
     "text": [
      "tf.Tensor(\n",
      "[[0. 1. 1.]\n",
      " [4. 4. 0.]\n",
      " [2. 3. 1.]], shape=(3, 3), dtype=float32)\n",
      "tf.Tensor(\n",
      "[[1. 0. 2.]\n",
      " [2. 2. 2.]\n",
      " [2. 1. 3.]], shape=(3, 3), dtype=float32)\n",
      "tf.Tensor(\n",
      "[[1. 2. 3.]\n",
      " [2. 8. 0.]\n",
      " [2. 6. 3.]], shape=(3, 3), dtype=float32)\n"
     ]
    }
   ],
   "source": [
    "keys = tf.matmul(x, w_key)\n",
    "querys = tf.matmul(x, w_query)\n",
    "values = tf.matmul(x, w_value)\n",
    "print(keys)\n",
    "print(querys)\n",
    "print(values)"
   ]
  },
  {
   "cell_type": "markdown",
   "metadata": {},
   "source": [
    "### Step 4: Calculate attention scores\n",
    "![texto alternativo](https://miro.medium.com/max/1973/1*u27nhUppoWYIGkRDmYFN2A.gif)\n",
    "\n",
    "To obtain **attention scores**, we start off with taking a dot product between Input 1’s **query** (red) with **all keys** (orange), including itself. Since there are 3 key representations (because we have 3 inputs), we obtain 3 attention scores (blue).\n",
    "\n",
    "```\n",
    "            [0, 4, 2]\n",
    "[1, 0, 2] x [1, 4, 3] = [2, 4, 4]\n",
    "            [1, 0, 1]\n",
    "```\n",
    "Notice that we only use the query from Input 1.  Later we’ll work on repeating this same step for the other querys.\n",
    "\n",
    "Note: *The above operation is known as dot product attention, one of the several score functions. Other score functions include scaled dot product and additive/concat.* "
   ]
  },
  {
   "cell_type": "code",
   "execution_count": 13,
   "metadata": {},
   "outputs": [
    {
     "data": {
      "text/plain": [
       "<tf.Tensor: shape=(3, 3), dtype=float32, numpy=\n",
       "array([[ 2.,  4.,  4.],\n",
       "       [ 4., 16., 12.],\n",
       "       [ 4., 12., 10.]], dtype=float32)>"
      ]
     },
     "execution_count": 13,
     "metadata": {},
     "output_type": "execute_result"
    }
   ],
   "source": [
    "attn_scores = tf.matmul(querys, keys, transpose_b=True)\n",
    "attn_scores"
   ]
  },
  {
   "cell_type": "markdown",
   "metadata": {},
   "source": [
    "### Step 5: Calculate softmax\n",
    "![texto alternativo](https://miro.medium.com/max/1973/1*jf__2D8RNCzefwS0TP1Kyg.gif)\n",
    "\n",
    "Take the **softmax** across these **attention scores** (blue).\n",
    "\n",
    "$softmax([2, 4, 4]) = [0.0, 0.5, 0.5]$"
   ]
  },
  {
   "cell_type": "code",
   "execution_count": 22,
   "metadata": {},
   "outputs": [
    {
     "name": "stdout",
     "output_type": "stream",
     "text": [
      "[[0.0, 0.5, 0.5], [0.0, 1.0, 0.0], [0.0, 0.9, 0.1]]\n"
     ]
    }
   ],
   "source": [
    "attn_scores_softmax = tf.nn.softmax(attn_scores, axis=-1)\n",
    "\n",
    "attn_scores_softmax = [\n",
    "  [0.0, 0.5, 0.5],\n",
    "  [0.0, 1.0, 0.0],\n",
    "  [0.0, 0.9, 0.1]\n",
    "]\n",
    "print(attn_scores_softmax)"
   ]
  },
  {
   "cell_type": "markdown",
   "metadata": {},
   "source": [
    "### Step 6: Multiply scores with values\n",
    "![texto alternativo](https://miro.medium.com/max/1973/1*9cTaJGgXPbiJ4AOCc6QHyA.gif)\n",
    "\n",
    "The softmaxed attention scores for each input (blue) is multiplied with its corresponding **value** (purple). This results in 3 alignment vectors (yellow). In this tutorial, we’ll refer to them as **weighted values**.\n",
    "```\n",
    "1: 0.0 * [1, 2, 3] = [0.0, 0.0, 0.0]\n",
    "2: 0.5 * [2, 8, 0] = [1.0, 4.0, 0.0]\n",
    "3: 0.5 * [2, 6, 3] = [1.0, 3.0, 1.5]\n",
    "``` "
   ]
  },
  {
   "cell_type": "code",
   "execution_count": 23,
   "metadata": {},
   "outputs": [
    {
     "data": {
      "text/plain": [
       "<tf.Tensor: shape=(3, 3, 3), dtype=float32, numpy=\n",
       "array([[[0. , 0. , 0. ],\n",
       "        [0. , 0. , 0. ],\n",
       "        [0. , 0. , 0. ]],\n",
       "\n",
       "       [[1. , 4. , 0. ],\n",
       "        [2. , 8. , 0. ],\n",
       "        [1.8, 7.2, 0. ]],\n",
       "\n",
       "       [[1. , 3. , 1.5],\n",
       "        [0. , 0. , 0. ],\n",
       "        [0.2, 0.6, 0.3]]], dtype=float32)>"
      ]
     },
     "execution_count": 23,
     "metadata": {},
     "output_type": "execute_result"
    }
   ],
   "source": [
    "weighted_values = values[:, None] * tf.transpose(attn_scores_softmax)[:, :, None]\n",
    "weighted_values"
   ]
  },
  {
   "cell_type": "markdown",
   "metadata": {},
   "source": [
    "### Step 7: Sum weighted values\n",
    "![texto alternativo](https://miro.medium.com/max/1973/1*1je5TwhVAwwnIeDFvww3ew.gif)\n",
    "\n",
    "Take all the **weighted values** (yellow) and sum them element-wise:\n",
    "\n",
    "```\n",
    "  [0.0, 0.0, 0.0]\n",
    "+ [1.0, 4.0, 0.0]\n",
    "+ [1.0, 3.0, 1.5]\n",
    "-----------------\n",
    "= [2.0, 7.0, 1.5]\n",
    "```\n",
    "\n",
    "The resulting vector ```[2.0, 7.0, 1.5]``` (dark green) **is Output 1**, which is based on the **query representation from Input 1** interacting with all other keys, including itself.\n"
   ]
  },
  {
   "cell_type": "markdown",
   "metadata": {},
   "source": [
    "### Step 8: Repeat for Input 2 & Input 3\n",
    "![texto alternativo](https://miro.medium.com/max/1973/1*G8thyDVqeD8WHim_QzjvFg.gif)\n",
    "\n",
    "Note: *The dimension of **query** and **key** must always be the same because of the dot product score function. However, the dimension of **value** may be different from **query** and **key**. The resulting output will consequently follow the dimension of **value**.*"
   ]
  },
  {
   "cell_type": "code",
   "execution_count": 25,
   "metadata": {},
   "outputs": [
    {
     "name": "stdout",
     "output_type": "stream",
     "text": [
      "tf.Tensor(\n",
      "[[2.        7.        1.5      ]\n",
      " [2.        8.        0.       ]\n",
      " [2.        7.7999997 0.3      ]], shape=(3, 3), dtype=float32)\n"
     ]
    }
   ],
   "source": [
    "outputs = tf.reduce_sum(weighted_values, axis=0)\n",
    "print(outputs)"
   ]
  },
  {
   "cell_type": "code",
   "execution_count": 27,
   "metadata": {},
   "outputs": [
    {
     "data": {
      "text/plain": [
       "<tf.Tensor: shape=(3, 4), dtype=float32, numpy=\n",
       "array([[1., 0., 1., 0.],\n",
       "       [0., 2., 0., 2.],\n",
       "       [1., 1., 1., 1.]], dtype=float32)>"
      ]
     },
     "execution_count": 27,
     "metadata": {},
     "output_type": "execute_result"
    }
   ],
   "source": [
    "x"
   ]
  }
 ],
 "metadata": {
  "kernelspec": {
   "display_name": "tensorflow-nlp",
   "language": "python",
   "name": "tensorflow-nlp"
  },
  "language_info": {
   "codemirror_mode": {
    "name": "ipython",
    "version": 3
   },
   "file_extension": ".py",
   "mimetype": "text/x-python",
   "name": "python",
   "nbconvert_exporter": "python",
   "pygments_lexer": "ipython3",
   "version": "3.9.2"
  }
 },
 "nbformat": 4,
 "nbformat_minor": 4
}
